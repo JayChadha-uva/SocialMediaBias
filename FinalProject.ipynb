{
  "nbformat": 4,
  "nbformat_minor": 0,
  "metadata": {
    "colab": {
      "provenance": []
    },
    "kernelspec": {
      "name": "python3",
      "display_name": "Python 3"
    },
    "language_info": {
      "name": "python"
    }
  },
  "cells": [
    {
      "cell_type": "markdown",
      "source": [
        "# Final Project\n",
        "\n",
        "Social Media Bias Predictor by Jay Chadha, Tyler Lynch, Robert Mustachio, and Kiyan Zewer\n",
        "\n",
        "---"
      ],
      "metadata": {
        "id": "01eRCwuokN3z"
      }
    },
    {
      "cell_type": "markdown",
      "source": [
        "Import dependencies."
      ],
      "metadata": {
        "id": "Bv13zfjgXWBA"
      }
    },
    {
      "cell_type": "code",
      "source": [
        "from sklearn.feature_extraction.text import CountVectorizer\n",
        "from sklearn.model_selection import train_test_split\n",
        "from sklearn.linear_model import LogisticRegression\n",
        "from sklearn.preprocessing import LabelEncoder\n",
        "from sklearn.model_selection import GridSearchCV\n",
        "from sklearn import preprocessing\n",
        "import matplotlib.pyplot as plt\n",
        "import numpy as np\n",
        "import pandas as pd\n",
        "\n",
        "import warnings\n",
        "warnings.filterwarnings('ignore')"
      ],
      "metadata": {
        "id": "9WoI1iYGkP9c"
      },
      "execution_count": null,
      "outputs": []
    },
    {
      "cell_type": "markdown",
      "source": [
        "## Preprocessing"
      ],
      "metadata": {
        "id": "JRsUdUk4YGS4"
      }
    },
    {
      "cell_type": "markdown",
      "source": [
        "Import the political_social_media dataset and preprocess the `text` and `bias` columns using `CountVectorizer()` and `LabelEncoder`.\n",
        "\n",
        "Make sure to upload the `political_social_media.csv` to the content folder in the runtime file explorer."
      ],
      "metadata": {
        "id": "Z0YVvy1EnoYK"
      }
    },
    {
      "cell_type": "code",
      "source": [
        "politicalBias = pd.read_csv(\"/content/sample_data/political_social_media.csv\")\n",
        "\n",
        "# Get dataframe columns\n",
        "bias = politicalBias[\"bias\"]\n",
        "text = politicalBias[\"text\"]\n",
        "\n",
        "print(politicalBias.head())\n",
        "\n",
        "# Convert text into vectors\n",
        "vectorizerText = CountVectorizer()\n",
        "text_matrix = vectorizerText.fit_transform(text)\n",
        "\n",
        "# Label Encode Bias column\n",
        "biasLabelEncoder = LabelEncoder()\n",
        "bias_encoded = biasLabelEncoder.fit_transform(bias)"
      ],
      "metadata": {
        "id": "x6Q-gbTRl0JM",
        "colab": {
          "base_uri": "https://localhost:8080/"
        },
        "outputId": "c258809c-489c-4844-cb5d-fa978d7f1005"
      },
      "execution_count": null,
      "outputs": [
        {
          "output_type": "stream",
          "name": "stdout",
          "text": [
            "       bias                                               text\n",
            "0  partisan  RT @nowthisnews: Rep. Trey Radel (R- #FL) slam...\n",
            "1  partisan  VIDEO - #Obamacare:  Full of Higher Costs and ...\n",
            "2   neutral  Please join me today in remembering our fallen...\n",
            "3   neutral  RT @SenatorLeahy: 1st step toward Senate debat...\n",
            "4  partisan  .@amazon delivery #drones show need to update ...\n"
          ]
        }
      ]
    },
    {
      "cell_type": "markdown",
      "source": [
        "## Data Split"
      ],
      "metadata": {
        "id": "MT_xE6G2bI40"
      }
    },
    {
      "cell_type": "markdown",
      "source": [
        "Split the data into 80% training 10% test and 10% validation."
      ],
      "metadata": {
        "id": "u_fhZ4Gx0Y50"
      }
    },
    {
      "cell_type": "code",
      "source": [
        "# Split the data into training, test, and validation data\n",
        "x_train, x_testValid, y_train, y_testValid = train_test_split(text_matrix, bias, test_size=0.2)\n",
        "\n",
        "# Split test data into test and validation\n",
        "x_test, x_valid, y_test, y_valid = train_test_split(x_testValid, y_testValid, test_size=0.5)"
      ],
      "metadata": {
        "id": "gtwpp18koAZv"
      },
      "execution_count": null,
      "outputs": []
    },
    {
      "cell_type": "markdown",
      "source": [
        "## Classifiers"
      ],
      "metadata": {
        "id": "1IrucNpK0haf"
      }
    },
    {
      "cell_type": "markdown",
      "source": [
        "### Logistic Regression"
      ],
      "metadata": {
        "id": "yq2uROQw1TEk"
      }
    },
    {
      "cell_type": "markdown",
      "source": [
        "Train and evaluate our logistic regression model on our test and validation sets."
      ],
      "metadata": {
        "id": "dRdD6QJx_-Y2"
      }
    },
    {
      "cell_type": "code",
      "source": [
        "# Train logistic regression classifier\n",
        "logreg = LogisticRegression()\n",
        "logreg.fit(x_train, y_train)\n",
        "\n",
        "# Evaluate classifer on training set\n",
        "accuracy_train = logreg.score(x_train, y_train)\n",
        "print(\"Training accuracy:\", accuracy_train)\n",
        "\n",
        "# Evaluate classifer on test set\n",
        "accuracy_test = logreg.score(x_test, y_test)\n",
        "print(\"Test accuracy:\", accuracy_test)\n",
        "\n",
        "# Evaluate classifier on validation set\n",
        "accuracy_val = logreg.score(x_valid, y_valid)\n",
        "print(\"Validation accuracy:\", accuracy_val)"
      ],
      "metadata": {
        "colab": {
          "base_uri": "https://localhost:8080/"
        },
        "id": "2DY2Vxas1VNm",
        "outputId": "50046952-095b-4c7c-db0d-a3106f54a43f"
      },
      "execution_count": null,
      "outputs": [
        {
          "output_type": "stream",
          "name": "stdout",
          "text": [
            "Training accuracy: 0.989\n",
            "Test accuracy: 0.756\n",
            "Validation accuracy: 0.73\n"
          ]
        }
      ]
    },
    {
      "cell_type": "markdown",
      "source": [
        "###SVM"
      ],
      "metadata": {
        "id": "Cl_4aUNX1p9z"
      }
    },
    {
      "cell_type": "markdown",
      "source": [
        "Train and evaluate our SVM model on our test and validation sets."
      ],
      "metadata": {
        "id": "7XTv1HhH1wi3"
      }
    },
    {
      "cell_type": "code",
      "source": [
        "from sklearn import svm\n",
        "from sklearn.metrics import accuracy_score\n",
        "\n",
        "# build the calssifier - Take in training data and the test X values\n",
        "def classifier(XtrnInput, YtrnInput, Xtst, kernelInput, gammaVal):\n",
        "    \n",
        "    # create SVM Calssifier with specified kernel and gamma values\n",
        "    classif = svm.SVC(kernel=kernelInput, gamma=gammaVal)\n",
        "    classif.fit(XtrnInput, YtrnInput)\n",
        "    \n",
        "    # return prediction on test data\n",
        "    return classif.predict(Xtst)\n",
        "\n",
        "# Call the calssifier\n",
        "predictionTest = classifier(x_train, y_train, x_test, \"rbf\", 1)\n",
        "\n",
        "# Evaluate classifer on training set\n",
        "trainingAccuracy = classifier(x_train, y_train, x_train, \"rbf\", 1)\n",
        "trainingAcc = accuracy_score(trainingAccuracy, y_train)\n",
        "print(\"Training accuracy:\", trainingAcc)\n",
        "\n",
        "# find the accuracy\n",
        "accTest = accuracy_score(predictionTest, y_test)\n",
        "print(\"Test accuracy:\", accTest)\n",
        "\n",
        "# Validation\n",
        "predictionValidation = classifier(x_train, y_train, x_valid, \"rbf\", 1)\n",
        "\n",
        "# find the accuracy\n",
        "acc_h = accuracy_score(predictionValidation, y_valid)\n",
        "print(\"Validation set accuracy:\", acc_h)"
      ],
      "metadata": {
        "colab": {
          "base_uri": "https://localhost:8080/"
        },
        "id": "TAC4kSg81uXR",
        "outputId": "c563e233-5f7f-4ccc-f07d-291e86ac8a13"
      },
      "execution_count": null,
      "outputs": [
        {
          "output_type": "stream",
          "name": "stdout",
          "text": [
            "Training accuracy: 0.99975\n",
            "Test accuracy: 0.744\n",
            "Validation set accuracy: 0.728\n"
          ]
        }
      ]
    },
    {
      "cell_type": "markdown",
      "source": [
        "## Hyperparameter Tuning"
      ],
      "metadata": {
        "id": "Mu1pMRSnC3Ko"
      }
    },
    {
      "cell_type": "markdown",
      "source": [
        "### Logistic Regression"
      ],
      "metadata": {
        "id": "iQi7c6GCDAXH"
      }
    },
    {
      "cell_type": "code",
      "source": [
        "# Create parameter grid to search over\n",
        "param_grid = {\n",
        "    'solver': ['newton-cg', 'lbfgs', 'liblinear', 'sag', 'saga'],\n",
        "    'penalty': ['l1', 'l2'],\n",
        "    'C': [0.001, 0.01, 0.1, 1, 10, 100]\n",
        "}\n",
        "\n",
        "# Create the grid search object\n",
        "grid_search = GridSearchCV(LogisticRegression(), param_grid, cv=5)\n",
        "\n",
        "# Fit the grid search to the data\n",
        "grid_search.fit(x_train, y_train)\n",
        "\n",
        "# Print the best hyperparameters found\n",
        "print(\"Best hyperparameters:\", grid_search.best_params_)\n",
        "\n",
        "# Train a new logistic regression model using the best hyperparameters found\n",
        "logreg_tuned = LogisticRegression(**grid_search.best_params_)\n",
        "logreg_tuned.fit(x_train, y_train)\n",
        "\n",
        "# Evaluate the tuned model on the test set\n",
        "accuracy_train_tuned = logreg_tuned.score(x_train, y_train)\n",
        "print(\"Tuned training accuracy:\", accuracy_train_tuned)\n",
        "accuracy_test_tuned = logreg_tuned.score(x_test, y_test)\n",
        "print(\"Tuned test accuracy:\", accuracy_test_tuned)\n",
        "validation_test_tuned = logreg_tuned.score(x_valid, y_valid)\n",
        "print(\"Tuned validation accuracy:\", validation_test_tuned)\n"
      ],
      "metadata": {
        "colab": {
          "base_uri": "https://localhost:8080/"
        },
        "id": "szE0b4DpF22H",
        "outputId": "3e1437b3-eb4a-4780-ac04-c46460d3c19d"
      },
      "execution_count": null,
      "outputs": [
        {
          "output_type": "stream",
          "name": "stdout",
          "text": [
            "Best hyperparameters: {'C': 0.1, 'penalty': 'l2', 'solver': 'liblinear'}\n",
            "Tuned training accuracy: 0.866\n",
            "Tuned test accuracy: 0.75\n",
            "Tuned validation accuracy: 0.744\n"
          ]
        }
      ]
    },
    {
      "cell_type": "markdown",
      "source": [
        "### SVM"
      ],
      "metadata": {
        "id": "1NUWuYHu3aJo"
      }
    },
    {
      "cell_type": "code",
      "source": [
        "# Call the calssifier\n",
        "predictionTest = classifier(x_train, y_train, x_test, \"rbf\", 0.01)\n",
        "\n",
        "# find the accuracy\n",
        "accTest = accuracy_score(predictionTest, y_test)\n",
        "print(\"Test accuracy:\", accTest)\n",
        "\n",
        "# Validation\n",
        "predictionValidation = classifier(x_train, y_train, x_valid, \"rbf\", 0.01)\n",
        "\n",
        "# find the accuracy\n",
        "acc_h = accuracy_score(predictionValidation, y_valid)\n",
        "print(\"Validation set accuracy:\", acc_h)\n",
        "\n",
        "# Call the calssifier\n",
        "predictionTest = classifier(x_train, y_train, x_test, \"rbf\", 0.001)\n",
        "\n",
        "# find the accuracy\n",
        "accTest = accuracy_score(predictionTest, y_test)\n",
        "print(\"Test accuracy:\", accTest)\n",
        "\n",
        "# Validation\n",
        "predictionValidation = classifier(x_train, y_train, x_valid, \"rbf\", 0.001)\n",
        "\n",
        "# find the accuracy\n",
        "acc_h = accuracy_score(predictionValidation, y_valid)\n",
        "print(\"Validation set accuracy:\", acc_h)"
      ],
      "metadata": {
        "colab": {
          "base_uri": "https://localhost:8080/"
        },
        "id": "hirDq5zi3bzz",
        "outputId": "e57def8c-037f-48e1-b88f-3ce4a8e95d47"
      },
      "execution_count": null,
      "outputs": [
        {
          "output_type": "stream",
          "name": "stdout",
          "text": [
            "Test accuracy: 0.754\n",
            "Validation set accuracy: 0.736\n",
            "Test accuracy: 0.744\n",
            "Validation set accuracy: 0.728\n"
          ]
        }
      ]
    },
    {
      "cell_type": "code",
      "source": [
        "# Call the calssifier\n",
        "predictionTest = classifier(x_train, y_train, x_test, \"rbf\", 100)\n",
        "\n",
        "# find the accuracy\n",
        "accTest = accuracy_score(predictionTest, y_test)\n",
        "print(\"Test accuracy:\", accTest)\n",
        "\n",
        "# Validation\n",
        "predictionValidation = classifier(x_train, y_train, x_valid, \"rbf\", 100)\n",
        "\n",
        "# find the accuracy\n",
        "acc_h = accuracy_score(predictionValidation, y_valid)\n",
        "print(\"Validation set accuracy:\", acc_h)"
      ],
      "metadata": {
        "id": "SuufBr4_4G9U",
        "colab": {
          "base_uri": "https://localhost:8080/"
        },
        "outputId": "d7f8b80d-a3de-4e72-fe8d-2d975abd3f0c"
      },
      "execution_count": null,
      "outputs": [
        {
          "output_type": "stream",
          "name": "stdout",
          "text": [
            "Test accuracy: 0.744\n",
            "Validation set accuracy: 0.728\n"
          ]
        }
      ]
    },
    {
      "cell_type": "code",
      "source": [
        "from sklearn.model_selection import GridSearchCV\n",
        "  \n",
        "# defining parameter range\n",
        "param_grid = {'C': [0.1, 1, 10,], \n",
        "              'gamma': [10, 1, 0.1, 0.01,],\n",
        "              'kernel': ['rbf', 'sigmoid']} \n",
        "  \n",
        "grid = GridSearchCV(svm.SVC(), param_grid, refit = True, verbose = 3)\n",
        "  \n",
        "# fitting the model for grid search\n",
        "grid.fit(x_train, y_train)"
      ],
      "metadata": {
        "id": "idf35Ycc4lNn",
        "colab": {
          "base_uri": "https://localhost:8080/",
          "height": 1000
        },
        "outputId": "7731abc8-a4ec-4245-8d18-56ff2058742a"
      },
      "execution_count": null,
      "outputs": [
        {
          "output_type": "stream",
          "name": "stdout",
          "text": [
            "Fitting 5 folds for each of 24 candidates, totalling 120 fits\n",
            "[CV 1/5] END .......C=0.1, gamma=10, kernel=rbf;, score=0.739 total time=   4.1s\n",
            "[CV 2/5] END .......C=0.1, gamma=10, kernel=rbf;, score=0.739 total time=   3.9s\n",
            "[CV 3/5] END .......C=0.1, gamma=10, kernel=rbf;, score=0.739 total time=   3.7s\n",
            "[CV 4/5] END .......C=0.1, gamma=10, kernel=rbf;, score=0.738 total time=   3.6s\n",
            "[CV 5/5] END .......C=0.1, gamma=10, kernel=rbf;, score=0.738 total time=   4.2s\n",
            "[CV 1/5] END ...C=0.1, gamma=10, kernel=sigmoid;, score=0.636 total time=   1.9s\n",
            "[CV 2/5] END ...C=0.1, gamma=10, kernel=sigmoid;, score=0.590 total time=   1.9s\n",
            "[CV 3/5] END ...C=0.1, gamma=10, kernel=sigmoid;, score=0.642 total time=   1.9s\n",
            "[CV 4/5] END ...C=0.1, gamma=10, kernel=sigmoid;, score=0.611 total time=   1.8s\n",
            "[CV 5/5] END ...C=0.1, gamma=10, kernel=sigmoid;, score=0.624 total time=   1.8s\n",
            "[CV 1/5] END ........C=0.1, gamma=1, kernel=rbf;, score=0.739 total time=   4.1s\n",
            "[CV 2/5] END ........C=0.1, gamma=1, kernel=rbf;, score=0.739 total time=   3.6s\n",
            "[CV 3/5] END ........C=0.1, gamma=1, kernel=rbf;, score=0.739 total time=   3.6s\n",
            "[CV 4/5] END ........C=0.1, gamma=1, kernel=rbf;, score=0.738 total time=   4.1s\n",
            "[CV 5/5] END ........C=0.1, gamma=1, kernel=rbf;, score=0.738 total time=   3.7s\n",
            "[CV 1/5] END ....C=0.1, gamma=1, kernel=sigmoid;, score=0.647 total time=   1.6s\n",
            "[CV 2/5] END ....C=0.1, gamma=1, kernel=sigmoid;, score=0.630 total time=   1.6s\n",
            "[CV 3/5] END ....C=0.1, gamma=1, kernel=sigmoid;, score=0.641 total time=   1.6s\n",
            "[CV 4/5] END ....C=0.1, gamma=1, kernel=sigmoid;, score=0.644 total time=   1.6s\n",
            "[CV 5/5] END ....C=0.1, gamma=1, kernel=sigmoid;, score=0.644 total time=   1.9s\n",
            "[CV 1/5] END ......C=0.1, gamma=0.1, kernel=rbf;, score=0.739 total time=   3.8s\n",
            "[CV 2/5] END ......C=0.1, gamma=0.1, kernel=rbf;, score=0.739 total time=   3.5s\n",
            "[CV 3/5] END ......C=0.1, gamma=0.1, kernel=rbf;, score=0.739 total time=   3.5s\n",
            "[CV 4/5] END ......C=0.1, gamma=0.1, kernel=rbf;, score=0.738 total time=   4.0s\n",
            "[CV 5/5] END ......C=0.1, gamma=0.1, kernel=rbf;, score=0.738 total time=   3.5s\n",
            "[CV 1/5] END ..C=0.1, gamma=0.1, kernel=sigmoid;, score=0.735 total time=   1.9s\n",
            "[CV 2/5] END ..C=0.1, gamma=0.1, kernel=sigmoid;, score=0.703 total time=   1.9s\n",
            "[CV 3/5] END ..C=0.1, gamma=0.1, kernel=sigmoid;, score=0.716 total time=   1.9s\n",
            "[CV 4/5] END ..C=0.1, gamma=0.1, kernel=sigmoid;, score=0.728 total time=   2.7s\n",
            "[CV 5/5] END ..C=0.1, gamma=0.1, kernel=sigmoid;, score=0.721 total time=   2.1s\n",
            "[CV 1/5] END .....C=0.1, gamma=0.01, kernel=rbf;, score=0.739 total time=   2.9s\n",
            "[CV 2/5] END .....C=0.1, gamma=0.01, kernel=rbf;, score=0.739 total time=   2.9s\n",
            "[CV 3/5] END .....C=0.1, gamma=0.01, kernel=rbf;, score=0.739 total time=   3.1s\n",
            "[CV 4/5] END .....C=0.1, gamma=0.01, kernel=rbf;, score=0.738 total time=   3.4s\n",
            "[CV 5/5] END .....C=0.1, gamma=0.01, kernel=rbf;, score=0.738 total time=   2.9s\n",
            "[CV 1/5] END .C=0.1, gamma=0.01, kernel=sigmoid;, score=0.739 total time=   2.2s\n",
            "[CV 2/5] END .C=0.1, gamma=0.01, kernel=sigmoid;, score=0.739 total time=   2.2s\n",
            "[CV 3/5] END .C=0.1, gamma=0.01, kernel=sigmoid;, score=0.739 total time=   2.2s\n",
            "[CV 4/5] END .C=0.1, gamma=0.01, kernel=sigmoid;, score=0.738 total time=   2.6s\n",
            "[CV 5/5] END .C=0.1, gamma=0.01, kernel=sigmoid;, score=0.738 total time=   2.3s\n",
            "[CV 1/5] END .........C=1, gamma=10, kernel=rbf;, score=0.739 total time=   3.9s\n",
            "[CV 2/5] END .........C=1, gamma=10, kernel=rbf;, score=0.739 total time=   3.9s\n",
            "[CV 3/5] END .........C=1, gamma=10, kernel=rbf;, score=0.739 total time=   4.5s\n",
            "[CV 4/5] END .........C=1, gamma=10, kernel=rbf;, score=0.738 total time=   3.9s\n",
            "[CV 5/5] END .........C=1, gamma=10, kernel=rbf;, score=0.738 total time=   3.9s\n",
            "[CV 1/5] END .....C=1, gamma=10, kernel=sigmoid;, score=0.632 total time=   1.9s\n",
            "[CV 2/5] END .....C=1, gamma=10, kernel=sigmoid;, score=0.574 total time=   2.1s\n",
            "[CV 3/5] END .....C=1, gamma=10, kernel=sigmoid;, score=0.621 total time=   1.8s\n",
            "[CV 4/5] END .....C=1, gamma=10, kernel=sigmoid;, score=0.599 total time=   1.6s\n",
            "[CV 5/5] END .....C=1, gamma=10, kernel=sigmoid;, score=0.605 total time=   1.6s\n",
            "[CV 1/5] END ..........C=1, gamma=1, kernel=rbf;, score=0.739 total time=   3.7s\n",
            "[CV 2/5] END ..........C=1, gamma=1, kernel=rbf;, score=0.739 total time=   4.4s\n",
            "[CV 3/5] END ..........C=1, gamma=1, kernel=rbf;, score=0.739 total time=   3.8s\n",
            "[CV 4/5] END ..........C=1, gamma=1, kernel=rbf;, score=0.738 total time=   3.6s\n",
            "[CV 5/5] END ..........C=1, gamma=1, kernel=rbf;, score=0.738 total time=   4.2s\n",
            "[CV 1/5] END ......C=1, gamma=1, kernel=sigmoid;, score=0.640 total time=   1.8s\n",
            "[CV 2/5] END ......C=1, gamma=1, kernel=sigmoid;, score=0.616 total time=   1.5s\n",
            "[CV 3/5] END ......C=1, gamma=1, kernel=sigmoid;, score=0.634 total time=   1.5s\n",
            "[CV 4/5] END ......C=1, gamma=1, kernel=sigmoid;, score=0.631 total time=   1.5s\n",
            "[CV 5/5] END ......C=1, gamma=1, kernel=sigmoid;, score=0.642 total time=   1.5s\n",
            "[CV 1/5] END ........C=1, gamma=0.1, kernel=rbf;, score=0.741 total time=   3.6s\n",
            "[CV 2/5] END ........C=1, gamma=0.1, kernel=rbf;, score=0.745 total time=   4.1s\n",
            "[CV 3/5] END ........C=1, gamma=0.1, kernel=rbf;, score=0.743 total time=   3.6s\n",
            "[CV 4/5] END ........C=1, gamma=0.1, kernel=rbf;, score=0.741 total time=   3.6s\n",
            "[CV 5/5] END ........C=1, gamma=0.1, kernel=rbf;, score=0.743 total time=   4.2s\n",
            "[CV 1/5] END ....C=1, gamma=0.1, kernel=sigmoid;, score=0.656 total time=   1.6s\n",
            "[CV 2/5] END ....C=1, gamma=0.1, kernel=sigmoid;, score=0.636 total time=   1.4s\n",
            "[CV 3/5] END ....C=1, gamma=0.1, kernel=sigmoid;, score=0.640 total time=   1.5s\n",
            "[CV 4/5] END ....C=1, gamma=0.1, kernel=sigmoid;, score=0.675 total time=   1.5s\n",
            "[CV 5/5] END ....C=1, gamma=0.1, kernel=sigmoid;, score=0.650 total time=   1.5s\n",
            "[CV 1/5] END .......C=1, gamma=0.01, kernel=rbf;, score=0.750 total time=   3.0s\n",
            "[CV 2/5] END .......C=1, gamma=0.01, kernel=rbf;, score=0.748 total time=   3.5s\n",
            "[CV 3/5] END .......C=1, gamma=0.01, kernel=rbf;, score=0.738 total time=   2.9s\n",
            "[CV 4/5] END .......C=1, gamma=0.01, kernel=rbf;, score=0.754 total time=   2.9s\n",
            "[CV 5/5] END .......C=1, gamma=0.01, kernel=rbf;, score=0.743 total time=   2.9s\n",
            "[CV 1/5] END ...C=1, gamma=0.01, kernel=sigmoid;, score=0.715 total time=   2.1s\n",
            "[CV 2/5] END ...C=1, gamma=0.01, kernel=sigmoid;, score=0.744 total time=   2.3s\n",
            "[CV 3/5] END ...C=1, gamma=0.01, kernel=sigmoid;, score=0.713 total time=   1.9s\n",
            "[CV 4/5] END ...C=1, gamma=0.01, kernel=sigmoid;, score=0.744 total time=   2.0s\n",
            "[CV 5/5] END ...C=1, gamma=0.01, kernel=sigmoid;, score=0.750 total time=   2.0s\n",
            "[CV 1/5] END ........C=10, gamma=10, kernel=rbf;, score=0.739 total time=   4.1s\n",
            "[CV 2/5] END ........C=10, gamma=10, kernel=rbf;, score=0.739 total time=   4.5s\n",
            "[CV 3/5] END ........C=10, gamma=10, kernel=rbf;, score=0.739 total time=   4.0s\n",
            "[CV 4/5] END ........C=10, gamma=10, kernel=rbf;, score=0.738 total time=   4.0s\n",
            "[CV 5/5] END ........C=10, gamma=10, kernel=rbf;, score=0.738 total time=   4.6s\n",
            "[CV 1/5] END ....C=10, gamma=10, kernel=sigmoid;, score=0.630 total time=   1.8s\n",
            "[CV 2/5] END ....C=10, gamma=10, kernel=sigmoid;, score=0.574 total time=   1.7s\n",
            "[CV 3/5] END ....C=10, gamma=10, kernel=sigmoid;, score=0.618 total time=   1.7s\n",
            "[CV 4/5] END ....C=10, gamma=10, kernel=sigmoid;, score=0.596 total time=   2.0s\n",
            "[CV 5/5] END ....C=10, gamma=10, kernel=sigmoid;, score=0.605 total time=   2.0s\n",
            "[CV 1/5] END .........C=10, gamma=1, kernel=rbf;, score=0.739 total time=   7.5s\n",
            "[CV 2/5] END .........C=10, gamma=1, kernel=rbf;, score=0.738 total time=   4.0s\n",
            "[CV 3/5] END .........C=10, gamma=1, kernel=rbf;, score=0.739 total time=   3.9s\n",
            "[CV 4/5] END .........C=10, gamma=1, kernel=rbf;, score=0.738 total time=   4.7s\n",
            "[CV 5/5] END .........C=10, gamma=1, kernel=rbf;, score=0.738 total time=   3.9s\n",
            "[CV 1/5] END .....C=10, gamma=1, kernel=sigmoid;, score=0.637 total time=   1.5s\n",
            "[CV 2/5] END .....C=10, gamma=1, kernel=sigmoid;, score=0.618 total time=   1.5s\n",
            "[CV 3/5] END .....C=10, gamma=1, kernel=sigmoid;, score=0.635 total time=   1.5s\n",
            "[CV 4/5] END .....C=10, gamma=1, kernel=sigmoid;, score=0.631 total time=   1.5s\n",
            "[CV 5/5] END .....C=10, gamma=1, kernel=sigmoid;, score=0.644 total time=   1.7s\n",
            "[CV 1/5] END .......C=10, gamma=0.1, kernel=rbf;, score=0.744 total time=   4.1s\n",
            "[CV 2/5] END .......C=10, gamma=0.1, kernel=rbf;, score=0.750 total time=   3.9s\n",
            "[CV 3/5] END .......C=10, gamma=0.1, kernel=rbf;, score=0.744 total time=   4.2s\n",
            "[CV 4/5] END .......C=10, gamma=0.1, kernel=rbf;, score=0.749 total time=   4.2s\n",
            "[CV 5/5] END .......C=10, gamma=0.1, kernel=rbf;, score=0.744 total time=   5.0s\n",
            "[CV 1/5] END ...C=10, gamma=0.1, kernel=sigmoid;, score=0.650 total time=   2.7s\n",
            "[CV 2/5] END ...C=10, gamma=0.1, kernel=sigmoid;, score=0.626 total time=   1.7s\n",
            "[CV 3/5] END ...C=10, gamma=0.1, kernel=sigmoid;, score=0.636 total time=   1.7s\n",
            "[CV 4/5] END ...C=10, gamma=0.1, kernel=sigmoid;, score=0.671 total time=   1.4s\n",
            "[CV 5/5] END ...C=10, gamma=0.1, kernel=sigmoid;, score=0.644 total time=   1.4s\n",
            "[CV 1/5] END ......C=10, gamma=0.01, kernel=rbf;, score=0.745 total time=   3.7s\n",
            "[CV 2/5] END ......C=10, gamma=0.01, kernel=rbf;, score=0.745 total time=   3.8s\n",
            "[CV 3/5] END ......C=10, gamma=0.01, kernel=rbf;, score=0.720 total time=   4.1s\n",
            "[CV 4/5] END ......C=10, gamma=0.01, kernel=rbf;, score=0.776 total time=   3.6s\n",
            "[CV 5/5] END ......C=10, gamma=0.01, kernel=rbf;, score=0.761 total time=   3.6s\n",
            "[CV 1/5] END ..C=10, gamma=0.01, kernel=sigmoid;, score=0.650 total time=   1.6s\n",
            "[CV 2/5] END ..C=10, gamma=0.01, kernel=sigmoid;, score=0.670 total time=   1.8s\n",
            "[CV 3/5] END ..C=10, gamma=0.01, kernel=sigmoid;, score=0.646 total time=   1.7s\n",
            "[CV 4/5] END ..C=10, gamma=0.01, kernel=sigmoid;, score=0.672 total time=   1.6s\n",
            "[CV 5/5] END ..C=10, gamma=0.01, kernel=sigmoid;, score=0.670 total time=   1.6s\n"
          ]
        },
        {
          "output_type": "execute_result",
          "data": {
            "text/plain": [
              "GridSearchCV(estimator=SVC(),\n",
              "             param_grid={'C': [0.1, 1, 10], 'gamma': [10, 1, 0.1, 0.01],\n",
              "                         'kernel': ['rbf', 'sigmoid']},\n",
              "             verbose=3)"
            ],
            "text/html": [
              "<style>#sk-container-id-1 {color: black;background-color: white;}#sk-container-id-1 pre{padding: 0;}#sk-container-id-1 div.sk-toggleable {background-color: white;}#sk-container-id-1 label.sk-toggleable__label {cursor: pointer;display: block;width: 100%;margin-bottom: 0;padding: 0.3em;box-sizing: border-box;text-align: center;}#sk-container-id-1 label.sk-toggleable__label-arrow:before {content: \"▸\";float: left;margin-right: 0.25em;color: #696969;}#sk-container-id-1 label.sk-toggleable__label-arrow:hover:before {color: black;}#sk-container-id-1 div.sk-estimator:hover label.sk-toggleable__label-arrow:before {color: black;}#sk-container-id-1 div.sk-toggleable__content {max-height: 0;max-width: 0;overflow: hidden;text-align: left;background-color: #f0f8ff;}#sk-container-id-1 div.sk-toggleable__content pre {margin: 0.2em;color: black;border-radius: 0.25em;background-color: #f0f8ff;}#sk-container-id-1 input.sk-toggleable__control:checked~div.sk-toggleable__content {max-height: 200px;max-width: 100%;overflow: auto;}#sk-container-id-1 input.sk-toggleable__control:checked~label.sk-toggleable__label-arrow:before {content: \"▾\";}#sk-container-id-1 div.sk-estimator input.sk-toggleable__control:checked~label.sk-toggleable__label {background-color: #d4ebff;}#sk-container-id-1 div.sk-label input.sk-toggleable__control:checked~label.sk-toggleable__label {background-color: #d4ebff;}#sk-container-id-1 input.sk-hidden--visually {border: 0;clip: rect(1px 1px 1px 1px);clip: rect(1px, 1px, 1px, 1px);height: 1px;margin: -1px;overflow: hidden;padding: 0;position: absolute;width: 1px;}#sk-container-id-1 div.sk-estimator {font-family: monospace;background-color: #f0f8ff;border: 1px dotted black;border-radius: 0.25em;box-sizing: border-box;margin-bottom: 0.5em;}#sk-container-id-1 div.sk-estimator:hover {background-color: #d4ebff;}#sk-container-id-1 div.sk-parallel-item::after {content: \"\";width: 100%;border-bottom: 1px solid gray;flex-grow: 1;}#sk-container-id-1 div.sk-label:hover label.sk-toggleable__label {background-color: #d4ebff;}#sk-container-id-1 div.sk-serial::before {content: \"\";position: absolute;border-left: 1px solid gray;box-sizing: border-box;top: 0;bottom: 0;left: 50%;z-index: 0;}#sk-container-id-1 div.sk-serial {display: flex;flex-direction: column;align-items: center;background-color: white;padding-right: 0.2em;padding-left: 0.2em;position: relative;}#sk-container-id-1 div.sk-item {position: relative;z-index: 1;}#sk-container-id-1 div.sk-parallel {display: flex;align-items: stretch;justify-content: center;background-color: white;position: relative;}#sk-container-id-1 div.sk-item::before, #sk-container-id-1 div.sk-parallel-item::before {content: \"\";position: absolute;border-left: 1px solid gray;box-sizing: border-box;top: 0;bottom: 0;left: 50%;z-index: -1;}#sk-container-id-1 div.sk-parallel-item {display: flex;flex-direction: column;z-index: 1;position: relative;background-color: white;}#sk-container-id-1 div.sk-parallel-item:first-child::after {align-self: flex-end;width: 50%;}#sk-container-id-1 div.sk-parallel-item:last-child::after {align-self: flex-start;width: 50%;}#sk-container-id-1 div.sk-parallel-item:only-child::after {width: 0;}#sk-container-id-1 div.sk-dashed-wrapped {border: 1px dashed gray;margin: 0 0.4em 0.5em 0.4em;box-sizing: border-box;padding-bottom: 0.4em;background-color: white;}#sk-container-id-1 div.sk-label label {font-family: monospace;font-weight: bold;display: inline-block;line-height: 1.2em;}#sk-container-id-1 div.sk-label-container {text-align: center;}#sk-container-id-1 div.sk-container {/* jupyter's `normalize.less` sets `[hidden] { display: none; }` but bootstrap.min.css set `[hidden] { display: none !important; }` so we also need the `!important` here to be able to override the default hidden behavior on the sphinx rendered scikit-learn.org. See: https://github.com/scikit-learn/scikit-learn/issues/21755 */display: inline-block !important;position: relative;}#sk-container-id-1 div.sk-text-repr-fallback {display: none;}</style><div id=\"sk-container-id-1\" class=\"sk-top-container\"><div class=\"sk-text-repr-fallback\"><pre>GridSearchCV(estimator=SVC(),\n",
              "             param_grid={&#x27;C&#x27;: [0.1, 1, 10], &#x27;gamma&#x27;: [10, 1, 0.1, 0.01],\n",
              "                         &#x27;kernel&#x27;: [&#x27;rbf&#x27;, &#x27;sigmoid&#x27;]},\n",
              "             verbose=3)</pre><b>In a Jupyter environment, please rerun this cell to show the HTML representation or trust the notebook. <br />On GitHub, the HTML representation is unable to render, please try loading this page with nbviewer.org.</b></div><div class=\"sk-container\" hidden><div class=\"sk-item sk-dashed-wrapped\"><div class=\"sk-label-container\"><div class=\"sk-label sk-toggleable\"><input class=\"sk-toggleable__control sk-hidden--visually\" id=\"sk-estimator-id-1\" type=\"checkbox\" ><label for=\"sk-estimator-id-1\" class=\"sk-toggleable__label sk-toggleable__label-arrow\">GridSearchCV</label><div class=\"sk-toggleable__content\"><pre>GridSearchCV(estimator=SVC(),\n",
              "             param_grid={&#x27;C&#x27;: [0.1, 1, 10], &#x27;gamma&#x27;: [10, 1, 0.1, 0.01],\n",
              "                         &#x27;kernel&#x27;: [&#x27;rbf&#x27;, &#x27;sigmoid&#x27;]},\n",
              "             verbose=3)</pre></div></div></div><div class=\"sk-parallel\"><div class=\"sk-parallel-item\"><div class=\"sk-item\"><div class=\"sk-label-container\"><div class=\"sk-label sk-toggleable\"><input class=\"sk-toggleable__control sk-hidden--visually\" id=\"sk-estimator-id-2\" type=\"checkbox\" ><label for=\"sk-estimator-id-2\" class=\"sk-toggleable__label sk-toggleable__label-arrow\">estimator: SVC</label><div class=\"sk-toggleable__content\"><pre>SVC()</pre></div></div></div><div class=\"sk-serial\"><div class=\"sk-item\"><div class=\"sk-estimator sk-toggleable\"><input class=\"sk-toggleable__control sk-hidden--visually\" id=\"sk-estimator-id-3\" type=\"checkbox\" ><label for=\"sk-estimator-id-3\" class=\"sk-toggleable__label sk-toggleable__label-arrow\">SVC</label><div class=\"sk-toggleable__content\"><pre>SVC()</pre></div></div></div></div></div></div></div></div></div></div>"
            ]
          },
          "metadata": {},
          "execution_count": 16
        }
      ]
    },
    {
      "cell_type": "code",
      "source": [
        "grid.fit(x_test, y_test)"
      ],
      "metadata": {
        "colab": {
          "base_uri": "https://localhost:8080/",
          "height": 1000
        },
        "id": "1Dq19ePd6_gQ",
        "outputId": "ba0d6bdb-a3d5-41fd-ab00-4d64c6f57a5f"
      },
      "execution_count": null,
      "outputs": [
        {
          "output_type": "stream",
          "name": "stdout",
          "text": [
            "Fitting 5 folds for each of 24 candidates, totalling 120 fits\n",
            "[CV 1/5] END .......C=0.1, gamma=10, kernel=rbf;, score=0.740 total time=   0.1s\n",
            "[CV 2/5] END .......C=0.1, gamma=10, kernel=rbf;, score=0.740 total time=   0.1s\n",
            "[CV 3/5] END .......C=0.1, gamma=10, kernel=rbf;, score=0.740 total time=   0.1s\n",
            "[CV 4/5] END .......C=0.1, gamma=10, kernel=rbf;, score=0.750 total time=   0.1s\n",
            "[CV 5/5] END .......C=0.1, gamma=10, kernel=rbf;, score=0.750 total time=   0.1s\n",
            "[CV 1/5] END ...C=0.1, gamma=10, kernel=sigmoid;, score=0.720 total time=   0.0s\n",
            "[CV 2/5] END ...C=0.1, gamma=10, kernel=sigmoid;, score=0.740 total time=   0.0s\n",
            "[CV 3/5] END ...C=0.1, gamma=10, kernel=sigmoid;, score=0.700 total time=   0.0s\n",
            "[CV 4/5] END ...C=0.1, gamma=10, kernel=sigmoid;, score=0.730 total time=   0.0s\n",
            "[CV 5/5] END ...C=0.1, gamma=10, kernel=sigmoid;, score=0.740 total time=   0.0s\n",
            "[CV 1/5] END ........C=0.1, gamma=1, kernel=rbf;, score=0.740 total time=   0.1s\n",
            "[CV 2/5] END ........C=0.1, gamma=1, kernel=rbf;, score=0.740 total time=   0.1s\n",
            "[CV 3/5] END ........C=0.1, gamma=1, kernel=rbf;, score=0.740 total time=   0.1s\n",
            "[CV 4/5] END ........C=0.1, gamma=1, kernel=rbf;, score=0.750 total time=   0.1s\n",
            "[CV 5/5] END ........C=0.1, gamma=1, kernel=rbf;, score=0.750 total time=   0.1s\n",
            "[CV 1/5] END ....C=0.1, gamma=1, kernel=sigmoid;, score=0.750 total time=   0.0s\n",
            "[CV 2/5] END ....C=0.1, gamma=1, kernel=sigmoid;, score=0.730 total time=   0.0s\n",
            "[CV 3/5] END ....C=0.1, gamma=1, kernel=sigmoid;, score=0.710 total time=   0.0s\n",
            "[CV 4/5] END ....C=0.1, gamma=1, kernel=sigmoid;, score=0.730 total time=   0.0s\n",
            "[CV 5/5] END ....C=0.1, gamma=1, kernel=sigmoid;, score=0.740 total time=   0.0s\n",
            "[CV 1/5] END ......C=0.1, gamma=0.1, kernel=rbf;, score=0.740 total time=   0.1s\n",
            "[CV 2/5] END ......C=0.1, gamma=0.1, kernel=rbf;, score=0.740 total time=   0.1s\n",
            "[CV 3/5] END ......C=0.1, gamma=0.1, kernel=rbf;, score=0.740 total time=   0.1s\n",
            "[CV 4/5] END ......C=0.1, gamma=0.1, kernel=rbf;, score=0.750 total time=   0.1s\n",
            "[CV 5/5] END ......C=0.1, gamma=0.1, kernel=rbf;, score=0.750 total time=   0.1s\n",
            "[CV 1/5] END ..C=0.1, gamma=0.1, kernel=sigmoid;, score=0.740 total time=   0.0s\n",
            "[CV 2/5] END ..C=0.1, gamma=0.1, kernel=sigmoid;, score=0.740 total time=   0.0s\n",
            "[CV 3/5] END ..C=0.1, gamma=0.1, kernel=sigmoid;, score=0.740 total time=   0.0s\n",
            "[CV 4/5] END ..C=0.1, gamma=0.1, kernel=sigmoid;, score=0.750 total time=   0.0s\n",
            "[CV 5/5] END ..C=0.1, gamma=0.1, kernel=sigmoid;, score=0.750 total time=   0.0s\n",
            "[CV 1/5] END .....C=0.1, gamma=0.01, kernel=rbf;, score=0.740 total time=   0.1s\n",
            "[CV 2/5] END .....C=0.1, gamma=0.01, kernel=rbf;, score=0.740 total time=   0.1s\n",
            "[CV 3/5] END .....C=0.1, gamma=0.01, kernel=rbf;, score=0.740 total time=   0.1s\n",
            "[CV 4/5] END .....C=0.1, gamma=0.01, kernel=rbf;, score=0.750 total time=   0.1s\n",
            "[CV 5/5] END .....C=0.1, gamma=0.01, kernel=rbf;, score=0.750 total time=   0.1s\n",
            "[CV 1/5] END .C=0.1, gamma=0.01, kernel=sigmoid;, score=0.740 total time=   0.0s\n",
            "[CV 2/5] END .C=0.1, gamma=0.01, kernel=sigmoid;, score=0.740 total time=   0.1s\n",
            "[CV 3/5] END .C=0.1, gamma=0.01, kernel=sigmoid;, score=0.740 total time=   0.0s\n",
            "[CV 4/5] END .C=0.1, gamma=0.01, kernel=sigmoid;, score=0.750 total time=   0.0s\n",
            "[CV 5/5] END .C=0.1, gamma=0.01, kernel=sigmoid;, score=0.750 total time=   0.0s\n",
            "[CV 1/5] END .........C=1, gamma=10, kernel=rbf;, score=0.740 total time=   0.1s\n",
            "[CV 2/5] END .........C=1, gamma=10, kernel=rbf;, score=0.740 total time=   0.1s\n",
            "[CV 3/5] END .........C=1, gamma=10, kernel=rbf;, score=0.740 total time=   0.1s\n",
            "[CV 4/5] END .........C=1, gamma=10, kernel=rbf;, score=0.750 total time=   0.1s\n",
            "[CV 5/5] END .........C=1, gamma=10, kernel=rbf;, score=0.750 total time=   0.1s\n",
            "[CV 1/5] END .....C=1, gamma=10, kernel=sigmoid;, score=0.650 total time=   0.0s\n",
            "[CV 2/5] END .....C=1, gamma=10, kernel=sigmoid;, score=0.640 total time=   0.0s\n",
            "[CV 3/5] END .....C=1, gamma=10, kernel=sigmoid;, score=0.680 total time=   0.0s\n",
            "[CV 4/5] END .....C=1, gamma=10, kernel=sigmoid;, score=0.710 total time=   0.0s\n",
            "[CV 5/5] END .....C=1, gamma=10, kernel=sigmoid;, score=0.640 total time=   0.0s\n",
            "[CV 1/5] END ..........C=1, gamma=1, kernel=rbf;, score=0.740 total time=   0.1s\n",
            "[CV 2/5] END ..........C=1, gamma=1, kernel=rbf;, score=0.740 total time=   0.1s\n",
            "[CV 3/5] END ..........C=1, gamma=1, kernel=rbf;, score=0.740 total time=   0.1s\n",
            "[CV 4/5] END ..........C=1, gamma=1, kernel=rbf;, score=0.750 total time=   0.1s\n",
            "[CV 5/5] END ..........C=1, gamma=1, kernel=rbf;, score=0.750 total time=   0.1s\n",
            "[CV 1/5] END ......C=1, gamma=1, kernel=sigmoid;, score=0.640 total time=   0.0s\n",
            "[CV 2/5] END ......C=1, gamma=1, kernel=sigmoid;, score=0.640 total time=   0.0s\n",
            "[CV 3/5] END ......C=1, gamma=1, kernel=sigmoid;, score=0.670 total time=   0.0s\n",
            "[CV 4/5] END ......C=1, gamma=1, kernel=sigmoid;, score=0.730 total time=   0.0s\n",
            "[CV 5/5] END ......C=1, gamma=1, kernel=sigmoid;, score=0.590 total time=   0.0s\n",
            "[CV 1/5] END ........C=1, gamma=0.1, kernel=rbf;, score=0.740 total time=   0.1s\n",
            "[CV 2/5] END ........C=1, gamma=0.1, kernel=rbf;, score=0.740 total time=   0.1s\n",
            "[CV 3/5] END ........C=1, gamma=0.1, kernel=rbf;, score=0.740 total time=   0.1s\n",
            "[CV 4/5] END ........C=1, gamma=0.1, kernel=rbf;, score=0.750 total time=   0.1s\n",
            "[CV 5/5] END ........C=1, gamma=0.1, kernel=rbf;, score=0.750 total time=   0.1s\n",
            "[CV 1/5] END ....C=1, gamma=0.1, kernel=sigmoid;, score=0.730 total time=   0.0s\n",
            "[CV 2/5] END ....C=1, gamma=0.1, kernel=sigmoid;, score=0.610 total time=   0.0s\n",
            "[CV 3/5] END ....C=1, gamma=0.1, kernel=sigmoid;, score=0.670 total time=   0.0s\n",
            "[CV 4/5] END ....C=1, gamma=0.1, kernel=sigmoid;, score=0.660 total time=   0.0s\n",
            "[CV 5/5] END ....C=1, gamma=0.1, kernel=sigmoid;, score=0.660 total time=   0.0s\n",
            "[CV 1/5] END .......C=1, gamma=0.01, kernel=rbf;, score=0.740 total time=   0.1s\n",
            "[CV 2/5] END .......C=1, gamma=0.01, kernel=rbf;, score=0.740 total time=   0.1s\n",
            "[CV 3/5] END .......C=1, gamma=0.01, kernel=rbf;, score=0.740 total time=   0.1s\n",
            "[CV 4/5] END .......C=1, gamma=0.01, kernel=rbf;, score=0.750 total time=   0.1s\n",
            "[CV 5/5] END .......C=1, gamma=0.01, kernel=rbf;, score=0.750 total time=   0.1s\n",
            "[CV 1/5] END ...C=1, gamma=0.01, kernel=sigmoid;, score=0.740 total time=   0.0s\n",
            "[CV 2/5] END ...C=1, gamma=0.01, kernel=sigmoid;, score=0.740 total time=   0.0s\n",
            "[CV 3/5] END ...C=1, gamma=0.01, kernel=sigmoid;, score=0.740 total time=   0.0s\n",
            "[CV 4/5] END ...C=1, gamma=0.01, kernel=sigmoid;, score=0.750 total time=   0.0s\n",
            "[CV 5/5] END ...C=1, gamma=0.01, kernel=sigmoid;, score=0.750 total time=   0.0s\n",
            "[CV 1/5] END ........C=10, gamma=10, kernel=rbf;, score=0.740 total time=   0.1s\n",
            "[CV 2/5] END ........C=10, gamma=10, kernel=rbf;, score=0.740 total time=   0.1s\n",
            "[CV 3/5] END ........C=10, gamma=10, kernel=rbf;, score=0.740 total time=   0.1s\n",
            "[CV 4/5] END ........C=10, gamma=10, kernel=rbf;, score=0.750 total time=   0.1s\n",
            "[CV 5/5] END ........C=10, gamma=10, kernel=rbf;, score=0.750 total time=   0.1s\n",
            "[CV 1/5] END ....C=10, gamma=10, kernel=sigmoid;, score=0.650 total time=   0.0s\n",
            "[CV 2/5] END ....C=10, gamma=10, kernel=sigmoid;, score=0.630 total time=   0.0s\n",
            "[CV 3/5] END ....C=10, gamma=10, kernel=sigmoid;, score=0.680 total time=   0.0s\n",
            "[CV 4/5] END ....C=10, gamma=10, kernel=sigmoid;, score=0.700 total time=   0.0s\n",
            "[CV 5/5] END ....C=10, gamma=10, kernel=sigmoid;, score=0.630 total time=   0.0s\n",
            "[CV 1/5] END .........C=10, gamma=1, kernel=rbf;, score=0.740 total time=   0.1s\n",
            "[CV 2/5] END .........C=10, gamma=1, kernel=rbf;, score=0.740 total time=   0.1s\n",
            "[CV 3/5] END .........C=10, gamma=1, kernel=rbf;, score=0.740 total time=   0.1s\n",
            "[CV 4/5] END .........C=10, gamma=1, kernel=rbf;, score=0.750 total time=   0.1s\n",
            "[CV 5/5] END .........C=10, gamma=1, kernel=rbf;, score=0.750 total time=   0.1s\n",
            "[CV 1/5] END .....C=10, gamma=1, kernel=sigmoid;, score=0.610 total time=   0.0s\n",
            "[CV 2/5] END .....C=10, gamma=1, kernel=sigmoid;, score=0.630 total time=   0.0s\n",
            "[CV 3/5] END .....C=10, gamma=1, kernel=sigmoid;, score=0.670 total time=   0.0s\n",
            "[CV 4/5] END .....C=10, gamma=1, kernel=sigmoid;, score=0.710 total time=   0.0s\n",
            "[CV 5/5] END .....C=10, gamma=1, kernel=sigmoid;, score=0.580 total time=   0.0s\n",
            "[CV 1/5] END .......C=10, gamma=0.1, kernel=rbf;, score=0.740 total time=   0.1s\n",
            "[CV 2/5] END .......C=10, gamma=0.1, kernel=rbf;, score=0.740 total time=   0.1s\n",
            "[CV 3/5] END .......C=10, gamma=0.1, kernel=rbf;, score=0.740 total time=   0.1s\n",
            "[CV 4/5] END .......C=10, gamma=0.1, kernel=rbf;, score=0.750 total time=   0.1s\n",
            "[CV 5/5] END .......C=10, gamma=0.1, kernel=rbf;, score=0.750 total time=   0.1s\n",
            "[CV 1/5] END ...C=10, gamma=0.1, kernel=sigmoid;, score=0.670 total time=   0.0s\n",
            "[CV 2/5] END ...C=10, gamma=0.1, kernel=sigmoid;, score=0.580 total time=   0.0s\n",
            "[CV 3/5] END ...C=10, gamma=0.1, kernel=sigmoid;, score=0.680 total time=   0.0s\n",
            "[CV 4/5] END ...C=10, gamma=0.1, kernel=sigmoid;, score=0.660 total time=   0.0s\n",
            "[CV 5/5] END ...C=10, gamma=0.1, kernel=sigmoid;, score=0.640 total time=   0.0s\n",
            "[CV 1/5] END ......C=10, gamma=0.01, kernel=rbf;, score=0.720 total time=   0.1s\n",
            "[CV 2/5] END ......C=10, gamma=0.01, kernel=rbf;, score=0.760 total time=   0.1s\n",
            "[CV 3/5] END ......C=10, gamma=0.01, kernel=rbf;, score=0.760 total time=   0.1s\n",
            "[CV 4/5] END ......C=10, gamma=0.01, kernel=rbf;, score=0.760 total time=   0.1s\n",
            "[CV 5/5] END ......C=10, gamma=0.01, kernel=rbf;, score=0.730 total time=   0.1s\n",
            "[CV 1/5] END ..C=10, gamma=0.01, kernel=sigmoid;, score=0.660 total time=   0.0s\n",
            "[CV 2/5] END ..C=10, gamma=0.01, kernel=sigmoid;, score=0.690 total time=   0.0s\n",
            "[CV 3/5] END ..C=10, gamma=0.01, kernel=sigmoid;, score=0.700 total time=   0.0s\n",
            "[CV 4/5] END ..C=10, gamma=0.01, kernel=sigmoid;, score=0.630 total time=   0.0s\n",
            "[CV 5/5] END ..C=10, gamma=0.01, kernel=sigmoid;, score=0.650 total time=   0.0s\n"
          ]
        },
        {
          "output_type": "execute_result",
          "data": {
            "text/plain": [
              "GridSearchCV(estimator=SVC(),\n",
              "             param_grid={'C': [0.1, 1, 10], 'gamma': [10, 1, 0.1, 0.01],\n",
              "                         'kernel': ['rbf', 'sigmoid']},\n",
              "             verbose=3)"
            ],
            "text/html": [
              "<style>#sk-container-id-2 {color: black;background-color: white;}#sk-container-id-2 pre{padding: 0;}#sk-container-id-2 div.sk-toggleable {background-color: white;}#sk-container-id-2 label.sk-toggleable__label {cursor: pointer;display: block;width: 100%;margin-bottom: 0;padding: 0.3em;box-sizing: border-box;text-align: center;}#sk-container-id-2 label.sk-toggleable__label-arrow:before {content: \"▸\";float: left;margin-right: 0.25em;color: #696969;}#sk-container-id-2 label.sk-toggleable__label-arrow:hover:before {color: black;}#sk-container-id-2 div.sk-estimator:hover label.sk-toggleable__label-arrow:before {color: black;}#sk-container-id-2 div.sk-toggleable__content {max-height: 0;max-width: 0;overflow: hidden;text-align: left;background-color: #f0f8ff;}#sk-container-id-2 div.sk-toggleable__content pre {margin: 0.2em;color: black;border-radius: 0.25em;background-color: #f0f8ff;}#sk-container-id-2 input.sk-toggleable__control:checked~div.sk-toggleable__content {max-height: 200px;max-width: 100%;overflow: auto;}#sk-container-id-2 input.sk-toggleable__control:checked~label.sk-toggleable__label-arrow:before {content: \"▾\";}#sk-container-id-2 div.sk-estimator input.sk-toggleable__control:checked~label.sk-toggleable__label {background-color: #d4ebff;}#sk-container-id-2 div.sk-label input.sk-toggleable__control:checked~label.sk-toggleable__label {background-color: #d4ebff;}#sk-container-id-2 input.sk-hidden--visually {border: 0;clip: rect(1px 1px 1px 1px);clip: rect(1px, 1px, 1px, 1px);height: 1px;margin: -1px;overflow: hidden;padding: 0;position: absolute;width: 1px;}#sk-container-id-2 div.sk-estimator {font-family: monospace;background-color: #f0f8ff;border: 1px dotted black;border-radius: 0.25em;box-sizing: border-box;margin-bottom: 0.5em;}#sk-container-id-2 div.sk-estimator:hover {background-color: #d4ebff;}#sk-container-id-2 div.sk-parallel-item::after {content: \"\";width: 100%;border-bottom: 1px solid gray;flex-grow: 1;}#sk-container-id-2 div.sk-label:hover label.sk-toggleable__label {background-color: #d4ebff;}#sk-container-id-2 div.sk-serial::before {content: \"\";position: absolute;border-left: 1px solid gray;box-sizing: border-box;top: 0;bottom: 0;left: 50%;z-index: 0;}#sk-container-id-2 div.sk-serial {display: flex;flex-direction: column;align-items: center;background-color: white;padding-right: 0.2em;padding-left: 0.2em;position: relative;}#sk-container-id-2 div.sk-item {position: relative;z-index: 1;}#sk-container-id-2 div.sk-parallel {display: flex;align-items: stretch;justify-content: center;background-color: white;position: relative;}#sk-container-id-2 div.sk-item::before, #sk-container-id-2 div.sk-parallel-item::before {content: \"\";position: absolute;border-left: 1px solid gray;box-sizing: border-box;top: 0;bottom: 0;left: 50%;z-index: -1;}#sk-container-id-2 div.sk-parallel-item {display: flex;flex-direction: column;z-index: 1;position: relative;background-color: white;}#sk-container-id-2 div.sk-parallel-item:first-child::after {align-self: flex-end;width: 50%;}#sk-container-id-2 div.sk-parallel-item:last-child::after {align-self: flex-start;width: 50%;}#sk-container-id-2 div.sk-parallel-item:only-child::after {width: 0;}#sk-container-id-2 div.sk-dashed-wrapped {border: 1px dashed gray;margin: 0 0.4em 0.5em 0.4em;box-sizing: border-box;padding-bottom: 0.4em;background-color: white;}#sk-container-id-2 div.sk-label label {font-family: monospace;font-weight: bold;display: inline-block;line-height: 1.2em;}#sk-container-id-2 div.sk-label-container {text-align: center;}#sk-container-id-2 div.sk-container {/* jupyter's `normalize.less` sets `[hidden] { display: none; }` but bootstrap.min.css set `[hidden] { display: none !important; }` so we also need the `!important` here to be able to override the default hidden behavior on the sphinx rendered scikit-learn.org. See: https://github.com/scikit-learn/scikit-learn/issues/21755 */display: inline-block !important;position: relative;}#sk-container-id-2 div.sk-text-repr-fallback {display: none;}</style><div id=\"sk-container-id-2\" class=\"sk-top-container\"><div class=\"sk-text-repr-fallback\"><pre>GridSearchCV(estimator=SVC(),\n",
              "             param_grid={&#x27;C&#x27;: [0.1, 1, 10], &#x27;gamma&#x27;: [10, 1, 0.1, 0.01],\n",
              "                         &#x27;kernel&#x27;: [&#x27;rbf&#x27;, &#x27;sigmoid&#x27;]},\n",
              "             verbose=3)</pre><b>In a Jupyter environment, please rerun this cell to show the HTML representation or trust the notebook. <br />On GitHub, the HTML representation is unable to render, please try loading this page with nbviewer.org.</b></div><div class=\"sk-container\" hidden><div class=\"sk-item sk-dashed-wrapped\"><div class=\"sk-label-container\"><div class=\"sk-label sk-toggleable\"><input class=\"sk-toggleable__control sk-hidden--visually\" id=\"sk-estimator-id-4\" type=\"checkbox\" ><label for=\"sk-estimator-id-4\" class=\"sk-toggleable__label sk-toggleable__label-arrow\">GridSearchCV</label><div class=\"sk-toggleable__content\"><pre>GridSearchCV(estimator=SVC(),\n",
              "             param_grid={&#x27;C&#x27;: [0.1, 1, 10], &#x27;gamma&#x27;: [10, 1, 0.1, 0.01],\n",
              "                         &#x27;kernel&#x27;: [&#x27;rbf&#x27;, &#x27;sigmoid&#x27;]},\n",
              "             verbose=3)</pre></div></div></div><div class=\"sk-parallel\"><div class=\"sk-parallel-item\"><div class=\"sk-item\"><div class=\"sk-label-container\"><div class=\"sk-label sk-toggleable\"><input class=\"sk-toggleable__control sk-hidden--visually\" id=\"sk-estimator-id-5\" type=\"checkbox\" ><label for=\"sk-estimator-id-5\" class=\"sk-toggleable__label sk-toggleable__label-arrow\">estimator: SVC</label><div class=\"sk-toggleable__content\"><pre>SVC()</pre></div></div></div><div class=\"sk-serial\"><div class=\"sk-item\"><div class=\"sk-estimator sk-toggleable\"><input class=\"sk-toggleable__control sk-hidden--visually\" id=\"sk-estimator-id-6\" type=\"checkbox\" ><label for=\"sk-estimator-id-6\" class=\"sk-toggleable__label sk-toggleable__label-arrow\">SVC</label><div class=\"sk-toggleable__content\"><pre>SVC()</pre></div></div></div></div></div></div></div></div></div></div>"
            ]
          },
          "metadata": {},
          "execution_count": 17
        }
      ]
    },
    {
      "cell_type": "code",
      "source": [
        "grid.fit(x_valid, y_valid)"
      ],
      "metadata": {
        "colab": {
          "base_uri": "https://localhost:8080/",
          "height": 1000
        },
        "id": "JqAJqXS46_7j",
        "outputId": "3b88a324-e747-41e0-a4bb-aaeb09975919"
      },
      "execution_count": null,
      "outputs": [
        {
          "output_type": "stream",
          "name": "stdout",
          "text": [
            "Fitting 5 folds for each of 24 candidates, totalling 120 fits\n",
            "[CV 1/5] END .......C=0.1, gamma=10, kernel=rbf;, score=0.730 total time=   0.1s\n",
            "[CV 2/5] END .......C=0.1, gamma=10, kernel=rbf;, score=0.730 total time=   0.1s\n",
            "[CV 3/5] END .......C=0.1, gamma=10, kernel=rbf;, score=0.730 total time=   0.1s\n",
            "[CV 4/5] END .......C=0.1, gamma=10, kernel=rbf;, score=0.730 total time=   0.1s\n",
            "[CV 5/5] END .......C=0.1, gamma=10, kernel=rbf;, score=0.720 total time=   0.1s\n",
            "[CV 1/5] END ...C=0.1, gamma=10, kernel=sigmoid;, score=0.710 total time=   0.0s\n",
            "[CV 2/5] END ...C=0.1, gamma=10, kernel=sigmoid;, score=0.740 total time=   0.0s\n",
            "[CV 3/5] END ...C=0.1, gamma=10, kernel=sigmoid;, score=0.750 total time=   0.0s\n",
            "[CV 4/5] END ...C=0.1, gamma=10, kernel=sigmoid;, score=0.720 total time=   0.0s\n",
            "[CV 5/5] END ...C=0.1, gamma=10, kernel=sigmoid;, score=0.720 total time=   0.0s\n",
            "[CV 1/5] END ........C=0.1, gamma=1, kernel=rbf;, score=0.730 total time=   0.1s\n",
            "[CV 2/5] END ........C=0.1, gamma=1, kernel=rbf;, score=0.730 total time=   0.1s\n",
            "[CV 3/5] END ........C=0.1, gamma=1, kernel=rbf;, score=0.730 total time=   0.1s\n",
            "[CV 4/5] END ........C=0.1, gamma=1, kernel=rbf;, score=0.730 total time=   0.1s\n",
            "[CV 5/5] END ........C=0.1, gamma=1, kernel=rbf;, score=0.720 total time=   0.1s\n",
            "[CV 1/5] END ....C=0.1, gamma=1, kernel=sigmoid;, score=0.740 total time=   0.0s\n",
            "[CV 2/5] END ....C=0.1, gamma=1, kernel=sigmoid;, score=0.730 total time=   0.0s\n",
            "[CV 3/5] END ....C=0.1, gamma=1, kernel=sigmoid;, score=0.750 total time=   0.0s\n",
            "[CV 4/5] END ....C=0.1, gamma=1, kernel=sigmoid;, score=0.720 total time=   0.0s\n",
            "[CV 5/5] END ....C=0.1, gamma=1, kernel=sigmoid;, score=0.730 total time=   0.0s\n",
            "[CV 1/5] END ......C=0.1, gamma=0.1, kernel=rbf;, score=0.730 total time=   0.1s\n",
            "[CV 2/5] END ......C=0.1, gamma=0.1, kernel=rbf;, score=0.730 total time=   0.1s\n",
            "[CV 3/5] END ......C=0.1, gamma=0.1, kernel=rbf;, score=0.730 total time=   0.1s\n",
            "[CV 4/5] END ......C=0.1, gamma=0.1, kernel=rbf;, score=0.730 total time=   0.1s\n",
            "[CV 5/5] END ......C=0.1, gamma=0.1, kernel=rbf;, score=0.720 total time=   0.1s\n",
            "[CV 1/5] END ..C=0.1, gamma=0.1, kernel=sigmoid;, score=0.730 total time=   0.0s\n",
            "[CV 2/5] END ..C=0.1, gamma=0.1, kernel=sigmoid;, score=0.730 total time=   0.0s\n",
            "[CV 3/5] END ..C=0.1, gamma=0.1, kernel=sigmoid;, score=0.730 total time=   0.0s\n",
            "[CV 4/5] END ..C=0.1, gamma=0.1, kernel=sigmoid;, score=0.730 total time=   0.0s\n",
            "[CV 5/5] END ..C=0.1, gamma=0.1, kernel=sigmoid;, score=0.720 total time=   0.0s\n",
            "[CV 1/5] END .....C=0.1, gamma=0.01, kernel=rbf;, score=0.730 total time=   0.1s\n",
            "[CV 2/5] END .....C=0.1, gamma=0.01, kernel=rbf;, score=0.730 total time=   0.1s\n",
            "[CV 3/5] END .....C=0.1, gamma=0.01, kernel=rbf;, score=0.730 total time=   0.1s\n",
            "[CV 4/5] END .....C=0.1, gamma=0.01, kernel=rbf;, score=0.730 total time=   0.1s\n",
            "[CV 5/5] END .....C=0.1, gamma=0.01, kernel=rbf;, score=0.720 total time=   0.1s\n",
            "[CV 1/5] END .C=0.1, gamma=0.01, kernel=sigmoid;, score=0.730 total time=   0.0s\n",
            "[CV 2/5] END .C=0.1, gamma=0.01, kernel=sigmoid;, score=0.730 total time=   0.1s\n",
            "[CV 3/5] END .C=0.1, gamma=0.01, kernel=sigmoid;, score=0.730 total time=   0.0s\n",
            "[CV 4/5] END .C=0.1, gamma=0.01, kernel=sigmoid;, score=0.730 total time=   0.0s\n",
            "[CV 5/5] END .C=0.1, gamma=0.01, kernel=sigmoid;, score=0.720 total time=   0.0s\n",
            "[CV 1/5] END .........C=1, gamma=10, kernel=rbf;, score=0.730 total time=   0.1s\n",
            "[CV 2/5] END .........C=1, gamma=10, kernel=rbf;, score=0.730 total time=   0.1s\n",
            "[CV 3/5] END .........C=1, gamma=10, kernel=rbf;, score=0.730 total time=   0.1s\n",
            "[CV 4/5] END .........C=1, gamma=10, kernel=rbf;, score=0.730 total time=   0.1s\n",
            "[CV 5/5] END .........C=1, gamma=10, kernel=rbf;, score=0.720 total time=   0.1s\n",
            "[CV 1/5] END .....C=1, gamma=10, kernel=sigmoid;, score=0.710 total time=   0.0s\n",
            "[CV 2/5] END .....C=1, gamma=10, kernel=sigmoid;, score=0.670 total time=   0.0s\n",
            "[CV 3/5] END .....C=1, gamma=10, kernel=sigmoid;, score=0.570 total time=   0.0s\n",
            "[CV 4/5] END .....C=1, gamma=10, kernel=sigmoid;, score=0.690 total time=   0.0s\n",
            "[CV 5/5] END .....C=1, gamma=10, kernel=sigmoid;, score=0.580 total time=   0.0s\n",
            "[CV 1/5] END ..........C=1, gamma=1, kernel=rbf;, score=0.730 total time=   0.1s\n",
            "[CV 2/5] END ..........C=1, gamma=1, kernel=rbf;, score=0.730 total time=   0.1s\n",
            "[CV 3/5] END ..........C=1, gamma=1, kernel=rbf;, score=0.730 total time=   0.1s\n",
            "[CV 4/5] END ..........C=1, gamma=1, kernel=rbf;, score=0.730 total time=   0.1s\n",
            "[CV 5/5] END ..........C=1, gamma=1, kernel=rbf;, score=0.720 total time=   0.1s\n",
            "[CV 1/5] END ......C=1, gamma=1, kernel=sigmoid;, score=0.640 total time=   0.0s\n",
            "[CV 2/5] END ......C=1, gamma=1, kernel=sigmoid;, score=0.620 total time=   0.0s\n",
            "[CV 3/5] END ......C=1, gamma=1, kernel=sigmoid;, score=0.600 total time=   0.0s\n",
            "[CV 4/5] END ......C=1, gamma=1, kernel=sigmoid;, score=0.640 total time=   0.0s\n",
            "[CV 5/5] END ......C=1, gamma=1, kernel=sigmoid;, score=0.610 total time=   0.0s\n",
            "[CV 1/5] END ........C=1, gamma=0.1, kernel=rbf;, score=0.730 total time=   0.1s\n",
            "[CV 2/5] END ........C=1, gamma=0.1, kernel=rbf;, score=0.730 total time=   0.1s\n",
            "[CV 3/5] END ........C=1, gamma=0.1, kernel=rbf;, score=0.730 total time=   0.1s\n",
            "[CV 4/5] END ........C=1, gamma=0.1, kernel=rbf;, score=0.730 total time=   0.1s\n",
            "[CV 5/5] END ........C=1, gamma=0.1, kernel=rbf;, score=0.720 total time=   0.1s\n",
            "[CV 1/5] END ....C=1, gamma=0.1, kernel=sigmoid;, score=0.690 total time=   0.0s\n",
            "[CV 2/5] END ....C=1, gamma=0.1, kernel=sigmoid;, score=0.670 total time=   0.0s\n",
            "[CV 3/5] END ....C=1, gamma=0.1, kernel=sigmoid;, score=0.660 total time=   0.0s\n",
            "[CV 4/5] END ....C=1, gamma=0.1, kernel=sigmoid;, score=0.660 total time=   0.0s\n",
            "[CV 5/5] END ....C=1, gamma=0.1, kernel=sigmoid;, score=0.730 total time=   0.0s\n",
            "[CV 1/5] END .......C=1, gamma=0.01, kernel=rbf;, score=0.730 total time=   0.1s\n",
            "[CV 2/5] END .......C=1, gamma=0.01, kernel=rbf;, score=0.730 total time=   0.1s\n",
            "[CV 3/5] END .......C=1, gamma=0.01, kernel=rbf;, score=0.730 total time=   0.1s\n",
            "[CV 4/5] END .......C=1, gamma=0.01, kernel=rbf;, score=0.730 total time=   0.1s\n",
            "[CV 5/5] END .......C=1, gamma=0.01, kernel=rbf;, score=0.720 total time=   0.1s\n",
            "[CV 1/5] END ...C=1, gamma=0.01, kernel=sigmoid;, score=0.730 total time=   0.0s\n",
            "[CV 2/5] END ...C=1, gamma=0.01, kernel=sigmoid;, score=0.720 total time=   0.0s\n",
            "[CV 3/5] END ...C=1, gamma=0.01, kernel=sigmoid;, score=0.730 total time=   0.0s\n",
            "[CV 4/5] END ...C=1, gamma=0.01, kernel=sigmoid;, score=0.730 total time=   0.0s\n",
            "[CV 5/5] END ...C=1, gamma=0.01, kernel=sigmoid;, score=0.720 total time=   0.0s\n",
            "[CV 1/5] END ........C=10, gamma=10, kernel=rbf;, score=0.730 total time=   0.1s\n",
            "[CV 2/5] END ........C=10, gamma=10, kernel=rbf;, score=0.730 total time=   0.1s\n",
            "[CV 3/5] END ........C=10, gamma=10, kernel=rbf;, score=0.730 total time=   0.1s\n",
            "[CV 4/5] END ........C=10, gamma=10, kernel=rbf;, score=0.730 total time=   0.1s\n",
            "[CV 5/5] END ........C=10, gamma=10, kernel=rbf;, score=0.720 total time=   0.1s\n",
            "[CV 1/5] END ....C=10, gamma=10, kernel=sigmoid;, score=0.700 total time=   0.0s\n",
            "[CV 2/5] END ....C=10, gamma=10, kernel=sigmoid;, score=0.660 total time=   0.0s\n",
            "[CV 3/5] END ....C=10, gamma=10, kernel=sigmoid;, score=0.600 total time=   0.0s\n",
            "[CV 4/5] END ....C=10, gamma=10, kernel=sigmoid;, score=0.580 total time=   0.0s\n",
            "[CV 5/5] END ....C=10, gamma=10, kernel=sigmoid;, score=0.590 total time=   0.0s\n",
            "[CV 1/5] END .........C=10, gamma=1, kernel=rbf;, score=0.730 total time=   0.1s\n",
            "[CV 2/5] END .........C=10, gamma=1, kernel=rbf;, score=0.730 total time=   0.1s\n",
            "[CV 3/5] END .........C=10, gamma=1, kernel=rbf;, score=0.730 total time=   0.1s\n",
            "[CV 4/5] END .........C=10, gamma=1, kernel=rbf;, score=0.730 total time=   0.1s\n",
            "[CV 5/5] END .........C=10, gamma=1, kernel=rbf;, score=0.720 total time=   0.1s\n",
            "[CV 1/5] END .....C=10, gamma=1, kernel=sigmoid;, score=0.650 total time=   0.0s\n",
            "[CV 2/5] END .....C=10, gamma=1, kernel=sigmoid;, score=0.600 total time=   0.0s\n",
            "[CV 3/5] END .....C=10, gamma=1, kernel=sigmoid;, score=0.600 total time=   0.0s\n",
            "[CV 4/5] END .....C=10, gamma=1, kernel=sigmoid;, score=0.640 total time=   0.0s\n",
            "[CV 5/5] END .....C=10, gamma=1, kernel=sigmoid;, score=0.590 total time=   0.0s\n",
            "[CV 1/5] END .......C=10, gamma=0.1, kernel=rbf;, score=0.740 total time=   0.1s\n",
            "[CV 2/5] END .......C=10, gamma=0.1, kernel=rbf;, score=0.730 total time=   0.1s\n",
            "[CV 3/5] END .......C=10, gamma=0.1, kernel=rbf;, score=0.730 total time=   0.1s\n",
            "[CV 4/5] END .......C=10, gamma=0.1, kernel=rbf;, score=0.730 total time=   0.1s\n",
            "[CV 5/5] END .......C=10, gamma=0.1, kernel=rbf;, score=0.720 total time=   0.1s\n",
            "[CV 1/5] END ...C=10, gamma=0.1, kernel=sigmoid;, score=0.630 total time=   0.0s\n",
            "[CV 2/5] END ...C=10, gamma=0.1, kernel=sigmoid;, score=0.600 total time=   0.0s\n",
            "[CV 3/5] END ...C=10, gamma=0.1, kernel=sigmoid;, score=0.630 total time=   0.0s\n",
            "[CV 4/5] END ...C=10, gamma=0.1, kernel=sigmoid;, score=0.640 total time=   0.0s\n",
            "[CV 5/5] END ...C=10, gamma=0.1, kernel=sigmoid;, score=0.690 total time=   0.0s\n",
            "[CV 1/5] END ......C=10, gamma=0.01, kernel=rbf;, score=0.770 total time=   0.1s\n",
            "[CV 2/5] END ......C=10, gamma=0.01, kernel=rbf;, score=0.710 total time=   0.1s\n",
            "[CV 3/5] END ......C=10, gamma=0.01, kernel=rbf;, score=0.750 total time=   0.1s\n",
            "[CV 4/5] END ......C=10, gamma=0.01, kernel=rbf;, score=0.740 total time=   0.1s\n",
            "[CV 5/5] END ......C=10, gamma=0.01, kernel=rbf;, score=0.710 total time=   0.1s\n",
            "[CV 1/5] END ..C=10, gamma=0.01, kernel=sigmoid;, score=0.630 total time=   0.0s\n",
            "[CV 2/5] END ..C=10, gamma=0.01, kernel=sigmoid;, score=0.670 total time=   0.0s\n",
            "[CV 3/5] END ..C=10, gamma=0.01, kernel=sigmoid;, score=0.640 total time=   0.0s\n",
            "[CV 4/5] END ..C=10, gamma=0.01, kernel=sigmoid;, score=0.670 total time=   0.0s\n",
            "[CV 5/5] END ..C=10, gamma=0.01, kernel=sigmoid;, score=0.610 total time=   0.0s\n"
          ]
        },
        {
          "output_type": "execute_result",
          "data": {
            "text/plain": [
              "GridSearchCV(estimator=SVC(),\n",
              "             param_grid={'C': [0.1, 1, 10], 'gamma': [10, 1, 0.1, 0.01],\n",
              "                         'kernel': ['rbf', 'sigmoid']},\n",
              "             verbose=3)"
            ],
            "text/html": [
              "<style>#sk-container-id-3 {color: black;background-color: white;}#sk-container-id-3 pre{padding: 0;}#sk-container-id-3 div.sk-toggleable {background-color: white;}#sk-container-id-3 label.sk-toggleable__label {cursor: pointer;display: block;width: 100%;margin-bottom: 0;padding: 0.3em;box-sizing: border-box;text-align: center;}#sk-container-id-3 label.sk-toggleable__label-arrow:before {content: \"▸\";float: left;margin-right: 0.25em;color: #696969;}#sk-container-id-3 label.sk-toggleable__label-arrow:hover:before {color: black;}#sk-container-id-3 div.sk-estimator:hover label.sk-toggleable__label-arrow:before {color: black;}#sk-container-id-3 div.sk-toggleable__content {max-height: 0;max-width: 0;overflow: hidden;text-align: left;background-color: #f0f8ff;}#sk-container-id-3 div.sk-toggleable__content pre {margin: 0.2em;color: black;border-radius: 0.25em;background-color: #f0f8ff;}#sk-container-id-3 input.sk-toggleable__control:checked~div.sk-toggleable__content {max-height: 200px;max-width: 100%;overflow: auto;}#sk-container-id-3 input.sk-toggleable__control:checked~label.sk-toggleable__label-arrow:before {content: \"▾\";}#sk-container-id-3 div.sk-estimator input.sk-toggleable__control:checked~label.sk-toggleable__label {background-color: #d4ebff;}#sk-container-id-3 div.sk-label input.sk-toggleable__control:checked~label.sk-toggleable__label {background-color: #d4ebff;}#sk-container-id-3 input.sk-hidden--visually {border: 0;clip: rect(1px 1px 1px 1px);clip: rect(1px, 1px, 1px, 1px);height: 1px;margin: -1px;overflow: hidden;padding: 0;position: absolute;width: 1px;}#sk-container-id-3 div.sk-estimator {font-family: monospace;background-color: #f0f8ff;border: 1px dotted black;border-radius: 0.25em;box-sizing: border-box;margin-bottom: 0.5em;}#sk-container-id-3 div.sk-estimator:hover {background-color: #d4ebff;}#sk-container-id-3 div.sk-parallel-item::after {content: \"\";width: 100%;border-bottom: 1px solid gray;flex-grow: 1;}#sk-container-id-3 div.sk-label:hover label.sk-toggleable__label {background-color: #d4ebff;}#sk-container-id-3 div.sk-serial::before {content: \"\";position: absolute;border-left: 1px solid gray;box-sizing: border-box;top: 0;bottom: 0;left: 50%;z-index: 0;}#sk-container-id-3 div.sk-serial {display: flex;flex-direction: column;align-items: center;background-color: white;padding-right: 0.2em;padding-left: 0.2em;position: relative;}#sk-container-id-3 div.sk-item {position: relative;z-index: 1;}#sk-container-id-3 div.sk-parallel {display: flex;align-items: stretch;justify-content: center;background-color: white;position: relative;}#sk-container-id-3 div.sk-item::before, #sk-container-id-3 div.sk-parallel-item::before {content: \"\";position: absolute;border-left: 1px solid gray;box-sizing: border-box;top: 0;bottom: 0;left: 50%;z-index: -1;}#sk-container-id-3 div.sk-parallel-item {display: flex;flex-direction: column;z-index: 1;position: relative;background-color: white;}#sk-container-id-3 div.sk-parallel-item:first-child::after {align-self: flex-end;width: 50%;}#sk-container-id-3 div.sk-parallel-item:last-child::after {align-self: flex-start;width: 50%;}#sk-container-id-3 div.sk-parallel-item:only-child::after {width: 0;}#sk-container-id-3 div.sk-dashed-wrapped {border: 1px dashed gray;margin: 0 0.4em 0.5em 0.4em;box-sizing: border-box;padding-bottom: 0.4em;background-color: white;}#sk-container-id-3 div.sk-label label {font-family: monospace;font-weight: bold;display: inline-block;line-height: 1.2em;}#sk-container-id-3 div.sk-label-container {text-align: center;}#sk-container-id-3 div.sk-container {/* jupyter's `normalize.less` sets `[hidden] { display: none; }` but bootstrap.min.css set `[hidden] { display: none !important; }` so we also need the `!important` here to be able to override the default hidden behavior on the sphinx rendered scikit-learn.org. See: https://github.com/scikit-learn/scikit-learn/issues/21755 */display: inline-block !important;position: relative;}#sk-container-id-3 div.sk-text-repr-fallback {display: none;}</style><div id=\"sk-container-id-3\" class=\"sk-top-container\"><div class=\"sk-text-repr-fallback\"><pre>GridSearchCV(estimator=SVC(),\n",
              "             param_grid={&#x27;C&#x27;: [0.1, 1, 10], &#x27;gamma&#x27;: [10, 1, 0.1, 0.01],\n",
              "                         &#x27;kernel&#x27;: [&#x27;rbf&#x27;, &#x27;sigmoid&#x27;]},\n",
              "             verbose=3)</pre><b>In a Jupyter environment, please rerun this cell to show the HTML representation or trust the notebook. <br />On GitHub, the HTML representation is unable to render, please try loading this page with nbviewer.org.</b></div><div class=\"sk-container\" hidden><div class=\"sk-item sk-dashed-wrapped\"><div class=\"sk-label-container\"><div class=\"sk-label sk-toggleable\"><input class=\"sk-toggleable__control sk-hidden--visually\" id=\"sk-estimator-id-7\" type=\"checkbox\" ><label for=\"sk-estimator-id-7\" class=\"sk-toggleable__label sk-toggleable__label-arrow\">GridSearchCV</label><div class=\"sk-toggleable__content\"><pre>GridSearchCV(estimator=SVC(),\n",
              "             param_grid={&#x27;C&#x27;: [0.1, 1, 10], &#x27;gamma&#x27;: [10, 1, 0.1, 0.01],\n",
              "                         &#x27;kernel&#x27;: [&#x27;rbf&#x27;, &#x27;sigmoid&#x27;]},\n",
              "             verbose=3)</pre></div></div></div><div class=\"sk-parallel\"><div class=\"sk-parallel-item\"><div class=\"sk-item\"><div class=\"sk-label-container\"><div class=\"sk-label sk-toggleable\"><input class=\"sk-toggleable__control sk-hidden--visually\" id=\"sk-estimator-id-8\" type=\"checkbox\" ><label for=\"sk-estimator-id-8\" class=\"sk-toggleable__label sk-toggleable__label-arrow\">estimator: SVC</label><div class=\"sk-toggleable__content\"><pre>SVC()</pre></div></div></div><div class=\"sk-serial\"><div class=\"sk-item\"><div class=\"sk-estimator sk-toggleable\"><input class=\"sk-toggleable__control sk-hidden--visually\" id=\"sk-estimator-id-9\" type=\"checkbox\" ><label for=\"sk-estimator-id-9\" class=\"sk-toggleable__label sk-toggleable__label-arrow\">SVC</label><div class=\"sk-toggleable__content\"><pre>SVC()</pre></div></div></div></div></div></div></div></div></div></div>"
            ]
          },
          "metadata": {},
          "execution_count": 18
        }
      ]
    },
    {
      "cell_type": "markdown",
      "source": [
        "# Analysis\n",
        "### 1. Based on the results above, which classifier is better, and why?\n",
        "Based on our results, we determined that neither classifier is better than the other. We determined this because both classifiers returned almost identical accuracies, both before and after hyperparameter tuning. We used a grid search to find the best possible parameters for each classifier, and even after each classifier still returned almost identical accuracies, which validated the claim that neither classifier is much better than the other.\n",
        "\n",
        "### 2. For further improvement on classification accuracy, what strategies that you can use and why do you think they will be helpful?\n",
        "To improve the classification accuracy methods such as outlier management and regularization can be used.\n",
        "\n",
        "Outlier management can help with accuracy as they can hold a large impact on classifications accuracies due to the sudden change in the data that lead to inaccurate predictions. Outliers can lead to poor fits and inaccurate predictions and ultimately a poor regression line. Assigning a lower weight to outliers reduces their impact. Therefore, the data will be balanced as long as it is done properly. If done incorrectly it can lead to biased data instead. In SVM, outliers can cause an inaccurate decision boundary and classification. Kernel functions, such as RBF, linear, nonlinear, and polynomial, can be used to minimize sensitive outliers. One-class SVM can also be used to avoid outliers as outliers do not have as much of an impact.\n",
        "\n",
        "Another method of improving classification accuracy would be through regularization. Regularization is used to reduce overfitting through the use of penalty terms to the loss function. Two type of regularization are L1 and L2 regularization. L1 regularization adds a penalty term to the loss function by calculating the absolute value of the sum of the coefficients of the model. L1 is useful when trying to reduce the complexity of the model. There are less coefficients being used and in turn making a simple model. L2 regularization tries to get the model to have small coefficients, unlike L1 which can make them zero. This is useful when all features are needed in the model, therefore it would not eliminate them. Overall, regularization can help generalize and simplify models to improve accuracy. Too much regularization can lead to underfitting, therefore, it is important to use it correctly."
      ],
      "metadata": {
        "id": "5jE2zDWTMTgl"
      }
    }
  ]
}